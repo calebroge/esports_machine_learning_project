{
 "cells": [
  {
   "cell_type": "code",
   "execution_count": 1,
   "id": "18d08f48-0982-4d34-b29d-73d9c97a1222",
   "metadata": {},
   "outputs": [
    {
     "name": "stdout",
     "output_type": "stream",
     "text": [
      "Guess how much a league of legends player earns based on their total career stats\n"
     ]
    },
    {
     "name": "stdin",
     "output_type": "stream",
     "text": [
      "Guess how many matches played (any number ranging from 1-100):  95\n",
      "Predict how many total kills they've gotten from playing league of legends:  273\n",
      "Guess how many total deaths have resulted from their matches:  154\n",
      "Guess their total kill assists from their matches:  506\n",
      "Guess how much total gold earned from a match (in tousands/hundreds of thousands):  1300674\n"
     ]
    },
    {
     "name": "stdout",
     "output_type": "stream",
     "text": [
      "The predicted value is: $1,231,181.22\n"
     ]
    }
   ],
   "source": [
    "run Program05.py"
   ]
  },
  {
   "cell_type": "code",
   "execution_count": null,
   "id": "86476398-6bd4-4f13-9bad-202db554a30a",
   "metadata": {},
   "outputs": [],
   "source": []
  }
 ],
 "metadata": {
  "kernelspec": {
   "display_name": "Python 3 (ipykernel)",
   "language": "python",
   "name": "python3"
  },
  "language_info": {
   "codemirror_mode": {
    "name": "ipython",
    "version": 3
   },
   "file_extension": ".py",
   "mimetype": "text/x-python",
   "name": "python",
   "nbconvert_exporter": "python",
   "pygments_lexer": "ipython3",
   "version": "3.8.11"
  }
 },
 "nbformat": 4,
 "nbformat_minor": 5
}
